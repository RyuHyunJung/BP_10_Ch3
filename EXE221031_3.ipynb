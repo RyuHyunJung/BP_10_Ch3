{
  "nbformat": 4,
  "nbformat_minor": 0,
  "metadata": {
    "colab": {
      "provenance": [],
      "collapsed_sections": [],
      "authorship_tag": "ABX9TyOtzWFoIV803qWO0A/X+iUM",
      "include_colab_link": true
    },
    "kernelspec": {
      "name": "python3",
      "display_name": "Python 3"
    },
    "language_info": {
      "name": "python"
    }
  },
  "cells": [
    {
      "cell_type": "markdown",
      "metadata": {
        "id": "view-in-github",
        "colab_type": "text"
      },
      "source": [
        "<a href=\"https://colab.research.google.com/github/RyuHyunJung/BP_10_Ch3/blob/main/EXE221031_3.ipynb\" target=\"_parent\"><img src=\"https://colab.research.google.com/assets/colab-badge.svg\" alt=\"Open In Colab\"/></a>"
      ]
    },
    {
      "cell_type": "code",
      "execution_count": 2,
      "metadata": {
        "colab": {
          "base_uri": "https://localhost:8080/"
        },
        "id": "pudeZXLy0Sx2",
        "outputId": "3c3cd762-ea05-4abf-8be8-522a09e6cd50"
      },
      "outputs": [
        {
          "output_type": "stream",
          "name": "stdout",
          "text": [
            "X의 값을 입력하시오.; 10\n",
            "Y의 값을 입력하시오.; 20\n",
            "x와 y의 합은:  30\n",
            "x와 y의 차는:  -10\n",
            "x와 y의 곱은:  200\n",
            "x와 y의 평균은: 15.0\n",
            "x와 x의 큰수는: 20\n",
            "x와 y의 작은수는: 10\n"
          ]
        }
      ],
      "source": [
        "x = int(input(\"X의 값을 입력하시오.; \"))\n",
        "y = int(input(\"Y의 값을 입력하시오.; \"))\n",
        "\n",
        "print(\"x와 y의 합은: \",x + y)\n",
        "print(\"x와 y의 차는: \",x - y)\n",
        "print(\"x와 y의 곱은: \",x * y)\n",
        "print(\"x와 y의 평균은:\",(x + y)/2)\n",
        "print(\"x와 x의 큰수는:\", max(x , y))\n",
        "print(\"x와 y의 작은수는:\", min(x, y))"
      ]
    },
    {
      "cell_type": "code",
      "source": [
        "r = float(input(\"r값을 입력하시오: \"))  #변수 r의 값을 사용자로부터 받는다. float형으로\n",
        "h = float(input(\"h값을 입력하시오: \"))  #변수 h의 값을 사용자로부터 받는다. float형으로\n",
        "vol = 3.141592 * r**2 * h\n",
        "print(\"원기둥의 부피는:\", vol, \"입니다.\")"
      ],
      "metadata": {
        "colab": {
          "base_uri": "https://localhost:8080/"
        },
        "id": "MGr9cg5u2iQ_",
        "outputId": "7e2d5826-43a7-4f1b-8787-c75ad14be11a"
      },
      "execution_count": 3,
      "outputs": [
        {
          "output_type": "stream",
          "name": "stdout",
          "text": [
            "r값을 입력하시오: 10\n",
            "h값을 입력하시오: 100\n",
            "원기둥의 부피는: 31415.92 입니다.\n"
          ]
        }
      ]
    },
    {
      "cell_type": "code",
      "source": [
        "number = int(input(\"정수를 입력하시오.: \"))\n",
        "sum = 0                    # 변수 sum을 초기화 0으로 한다.\n",
        "sum = sum + number % 10\n",
        "number = number // 10\n",
        "sum = sum + number % 10\n",
        "number = number // 10\n",
        "sum = sum + number % 10\n",
        "number = number // 10\n",
        "sum = sum + number % 10\n",
        "number = number // 10\n",
        "print(\"자리수의 합: \", str(sum))"
      ],
      "metadata": {
        "colab": {
          "base_uri": "https://localhost:8080/"
        },
        "id": "XZZa5tul54ZX",
        "outputId": "82d345a5-336f-429d-aaef-549248227829"
      },
      "execution_count": 7,
      "outputs": [
        {
          "output_type": "stream",
          "name": "stdout",
          "text": [
            "정수를 입력하시오.: 1234\n",
            "자리수의 합:  10\n"
          ]
        }
      ]
    },
    {
      "cell_type": "code",
      "source": [
        "x1 = int(input(\"x1의 값: \"))\n",
        "y1 = int(input(\"y1의 값: \"))\n",
        "\n",
        "x2 = int(input(\"x2의 값: \"))\n",
        "y2 = int(input(\"y2의 값: \"))\n",
        "dist = ((x2-x1)**2 + (y2-y1)**2)**0.5\n",
        "print(\"두점 사이의 거리 =\", dist, \"입니다. \")\n"
      ],
      "metadata": {
        "colab": {
          "base_uri": "https://localhost:8080/"
        },
        "id": "bXTKt8WP8Ojb",
        "outputId": "0b3fb2b7-f745-4437-c189-0e632faeae38"
      },
      "execution_count": 8,
      "outputs": [
        {
          "output_type": "stream",
          "name": "stdout",
          "text": [
            "x1의 값: 0\n",
            "y1의 값: 0\n",
            "x2의 값: 100\n",
            "y2의 값: 100\n",
            "두점 사이의 거리 = 141.4213562373095 입니다. \n"
          ]
        }
      ]
    },
    {
      "cell_type": "markdown",
      "source": [
        "import math\n",
        "x1 = int(input(\"x1: \"))\n",
        "x1: 0\n",
        "y1 = int(input(\"y1: \"))\n",
        "y1: 0\n",
        "x2 = int(input(\"x2: \"))\n",
        "x2: 100\n",
        "y2 = int(input(\"y2: \"))\n",
        "y2: 100\n",
        "dist = math.sqrt((x2-x1)**2 + (y2-y1)**2)\n",
        "print(\"두 점 사이의 거리는 =\", dist)"
      ],
      "metadata": {
        "id": "dAuccV2jH2vZ"
      }
    },
    {
      "cell_type": "code",
      "source": [
        "import turtle\n",
        "t = turtle.Turtle()\n",
        "t.shape(\"turtle\")\n",
        "\n",
        "t.left(45)\n",
        "t.forward(141)\n",
        "\n",
        "t.setheading(0)\n",
        "t.goto(0, 0)\n",
        "t.forward(100)\n",
        "t.left(90)\n",
        "t.forward(100)\n",
        "t._screen.exitonclick()\n"
      ],
      "metadata": {
        "id": "47XMFawU9EX0"
      },
      "execution_count": null,
      "outputs": []
    },
    {
      "cell_type": "code",
      "source": [
        "import time\n",
        "fsecond = time.time()\n",
        "total_sec = int(fsecond)\n",
        "total_min = total_sec //60\n",
        "minute = total_min % 60\n",
        "total_hour = total_min // 60\n",
        "hour = total_hour % 24\n",
        "\n",
        "print(\"현재시각은 (영국 그리니치 표준 시각): \", str(hour) + \"시\" + str(minute) + \"분\")"
      ],
      "metadata": {
        "colab": {
          "base_uri": "https://localhost:8080/"
        },
        "id": "K4sZUNdZH5mg",
        "outputId": "de1d76a1-4961-425c-d1de-00a7f051788a"
      },
      "execution_count": 12,
      "outputs": [
        {
          "output_type": "stream",
          "name": "stdout",
          "text": [
            "현재시각은 (영국 그리니치 표준 시각):  3시48분\n"
          ]
        }
      ]
    }
  ]
}